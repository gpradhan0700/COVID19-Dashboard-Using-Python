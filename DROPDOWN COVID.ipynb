{
 "cells": [
  {
   "cell_type": "code",
   "execution_count": null,
   "metadata": {},
   "outputs": [
    {
     "name": "stdout",
     "output_type": "stream",
     "text": [
      "Dash is running on http://127.0.0.1:2023/\n",
      "\n",
      " * Serving Flask app \"__main__\" (lazy loading)\n",
      " * Environment: production\n",
      "   WARNING: This is a development server. Do not use it in a production deployment.\n",
      "   Use a production WSGI server instead.\n",
      " * Debug mode: off\n"
     ]
    },
    {
     "name": "stderr",
     "output_type": "stream",
     "text": [
      " * Running on http://127.0.0.1:2023/ (Press CTRL+C to quit)\n",
      "127.0.0.1 - - [19/Nov/2020 13:49:15] \"\u001b[37mGET / HTTP/1.1\u001b[0m\" 200 -\n",
      "127.0.0.1 - - [19/Nov/2020 13:49:15] \"\u001b[37mGET /_dash-layout HTTP/1.1\u001b[0m\" 200 -\n",
      "127.0.0.1 - - [19/Nov/2020 13:49:15] \"\u001b[37mGET /_dash-dependencies HTTP/1.1\u001b[0m\" 200 -\n",
      "127.0.0.1 - - [19/Nov/2020 13:49:15] \"\u001b[37mPOST /_dash-update-component HTTP/1.1\u001b[0m\" 200 -\n",
      "127.0.0.1 - - [19/Nov/2020 13:49:18] \"\u001b[37mPOST /_dash-update-component HTTP/1.1\u001b[0m\" 200 -\n",
      "127.0.0.1 - - [19/Nov/2020 13:49:21] \"\u001b[37mPOST /_dash-update-component HTTP/1.1\u001b[0m\" 200 -\n"
     ]
    }
   ],
   "source": [
    "import dash\n",
    "import dash_core_components as dcc\n",
    "import dash_html_components as html\n",
    "import plotly.graph_objs as go\n",
    "import pandas as pd\n",
    "from dash.dependencies import Input, Output\n",
    "fig = go.Figure()\n",
    "app = dash.Dash()\n",
    "\n",
    "df = pd.read_csv('covid jharkhad.csv')\n",
    "df1 = pd.read_excel('Month.xlsx')\n",
    "\n",
    "app.layout = html.Div([html.Div(html.H1('COVID CASES IN JHARKHAND',style={'color':'white',\n",
    "                                                    'text-align':'center',\n",
    "                                                    'background-color':'black',\n",
    "                                                    'border-style':'double',\n",
    "                                                    'display':'inline-block',\n",
    "                                                    'width':'100%'\n",
    "                                                    })),\n",
    "                html.Div(dcc.Dropdown(id='dropdown1',options=[{'label':'POSITIVE CASE','value':'POSITIVE CASE'},\n",
    "                                                              {'label':'ACTIVE CASE','value':'ACTIVE CASE'},\n",
    "                                                              {'label':'RECOVERED CASE','value':'RECOVERED CASE'},\n",
    "                                                              {'label':'DECEASED CASE','value':'DECEASED CASE'},\n",
    "                                                              {'label':'FATALITY RATE','value':'FATALITY RATE'},\n",
    "                                                              {'label':'RECOVERY RATE','value':'RECOVERY RATE'},\n",
    "                                                              {'label':'TOTAL TEST','value':'TOTAL TEST'},\n",
    "                                                              {'label':'NEW CASE BY MONTH','value':'NEW CASE BY MONTH'},\n",
    "                                                              {'label':'DEATH CASE BY MONTH','value':'DEATH CASE BY MONTH'}],\n",
    "                                                              placeholder='Select an option'),\n",
    "                                                              style={'width':'100%','display':'inline-block','text-align':'center'}),\n",
    "                html.Div(dcc.Graph(id='firstgraph1',figure=fig,style={'width':'100%','display':'inline-block'}))\n",
    "                    ])\n",
    "@app.callback(\n",
    "     Output('firstgraph1','figure'),\n",
    "     [Input('dropdown1','value')])\n",
    "\n",
    "\n",
    "def update_figure(dropdown1):\n",
    "    global fig \n",
    "    if dropdown1 == 'POSITIVE CASE':\n",
    "        fig = go.Figure(go.Bar(x=df['Districts'],y=df['PositiveCases']))\n",
    "        fig.update_layout(title='POSITIVE CASE')\n",
    "    if dropdown1 == 'ACTIVE CASE':\n",
    "        fig = go.Figure(go.Scatter(x=df['Districts'],y=df['ActiveCases'],mode='lines+markers'))\n",
    "        fig.update_layout(title='ACTIVE CASE')\n",
    "    if dropdown1 == 'RECOVERED CASE':\n",
    "        fig = go.Figure(go.Scatter(x=df['Districts'],y=df['Recovered'],mode= 'markers'))\n",
    "        fig.update_layout(title='RECOVERED CASE')\n",
    "    if dropdown1 == 'DECEASED CASE':\n",
    "        fig = go.Figure(go.Box(x=df['Districts'],y=df['Deceased']))\n",
    "        fig.update_layout(title='DECEASED CASE')\n",
    "    if dropdown1 == 'FATALITY RATE':\n",
    "        fig = go.Figure(go.Bar(x=df['Districts'],y=df['FatalityRate']))\n",
    "        fig.update_layout(title='FATALITY RATE')\n",
    "    if dropdown1 == 'RECOVERY RATE':\n",
    "        fig = go.Figure(go.Scatter(x=df['Districts'],y=df['RecoveryRate'],mode='lines+markers'))\n",
    "        fig.update_layout(title='RECOVERY RATE')\n",
    "    if dropdown1 == 'TOTAL TEST':\n",
    "        fig = go.Figure(go.Scatter(x=df['Districts'],y=df['Total Tests'],mode='markers',marker_line_width=20.5))\n",
    "        fig.update_layout(title='TOTAL TEST')\n",
    "    if dropdown1 == 'NEW CASE BY MONTH':\n",
    "        fig = go.Figure(go.Heatmap(x=df1['Months'],y=df1['New Cases'],z=df1['Death Cases']))\n",
    "        fig.update_layout(title='NEW CASE BY MONTH')\n",
    "    if dropdown1 == 'DEATH CASE BY MONTH':\n",
    "        fig = go.Figure(go.Heatmap(x=df1['Months'],y=df1['Death Cases'],z=df1['New Cases']))\n",
    "        fig.update_layout(title='DEATH CASE BY MONTH')\n",
    "\n",
    "    return fig\n",
    "if __name__ == '__main__':\n",
    "    app.run_server(port=2023)\n"
   ]
  },
  {
   "cell_type": "code",
   "execution_count": null,
   "metadata": {},
   "outputs": [],
   "source": []
  },
  {
   "cell_type": "code",
   "execution_count": null,
   "metadata": {},
   "outputs": [],
   "source": []
  }
 ],
 "metadata": {
  "kernelspec": {
   "display_name": "Python 3",
   "language": "python",
   "name": "python3"
  }
 },
 "nbformat": 4,
 "nbformat_minor": 4
}
